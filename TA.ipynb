{
 "cells": [
  {
   "cell_type": "markdown",
   "metadata": {},
   "source": [
    "# Text_Analysis"
   ]
  },
  {
   "cell_type": "markdown",
   "metadata": {},
   "source": [
    "### Basic Text Analysis\n",
    "\n",
    "This problem involves a mix of Python review (loops, conditionals, counters/dictionaries, sorting) and learning to work with a sizable collection of text data.\n",
    "\n",
    "You will be looking at a phenomenon of \"natural languages\" (i.e., human languages, such as English) called *Zipf's law*, which relates how frequently a word occurs in a language to its \"rank\" (the word with rank 1 is the most frequently occurring word, the word with rank 2 is the second most frequently occurring word, etc). Roughly speaking, the word with rank 1 appears twice as likely as the word with rank 2, and the three times as likely as the word with rank 3, and so forth. (Some details on Zipf's law can be found on [Wikipedia](https://en.wikipedia.org/wiki/Zipf%27s_law).) In this problem, you are going to check whether Zipf's law holds for a real dataset of text documents.\n",
    "\n",
    "The dataset we look at is a collection of the 100 most popular books downloaded from the [Gutenburg Project](https://www.gutenberg.org/browse/scores/top). These 100 books form the corpus that we consider for this problem. Each file contains the text of a book. We will read in all 100 books.\n",
    "\n",
    "Write a loop that iterates through all 100 books; for each book, print out its corresponding file name and also how long the book is in terms of string length (meaning that if we load in the book as a string, we compute the length of the string using the built-in Python function `len`; this is just counting the number of characters).\n"
   ]
  },
  {
   "cell_type": "code",
   "execution_count": 1,
   "metadata": {},
   "outputs": [
    {
     "name": "stdout",
     "output_type": "stream",
     "text": [
      "./HW1_Dataset/War and Peace by graf Leo Tolstoy (251).txt 3227580\n",
      "./HW1_Dataset/Democracy in America — Volume 1 by Alexis de Tocqueville (147).txt 1148435\n",
      "./HW1_Dataset/Frankenstein; Or, The Modern Prometheus by Mary Wollstonecraft Shelley (501).txt 441034\n",
      "./HW1_Dataset/The King James Version of the Bible (132).txt 4351846\n",
      "./HW1_Dataset/Et dukkehjem. English by Henrik Ibsen (557).txt 161241\n",
      "./HW1_Dataset/Outpost in the Wilderness_ Fort Wayne, 1706-1828 by Charles Poinsatte (161).txt 363234\n",
      "./HW1_Dataset/The Romance of Lust_ A Classic Victorian erotic novel by Anonymous (294).txt 1051148\n",
      "./HW1_Dataset/The Odyssey by Homer (124).txt 697404\n",
      "./HW1_Dataset/A History of Spanish Literature by James Fitzmaurice-Kelly (109).txt 765918\n",
      "./HW1_Dataset/The Philosophy of Spiritual Activity by Rudolf Steiner (144).txt 545031\n",
      "./HW1_Dataset/My Fifteen Lost Years by Florence Elizabeth Maybrick (499).txt 383694\n",
      "./HW1_Dataset/Prestuplenie i nakazanie. English by Fyodor Dostoyevsky (160).txt 1154508\n",
      "./HW1_Dataset/The History of the Peloponnesian War by Thucydides (122).txt 1200021\n",
      "./HW1_Dataset/Gulliver's Travels into Several Remote Nations of the World by Jonathan Swift (136).txt 600105\n",
      "./HW1_Dataset/The Peddler Spy by W. J. Hamilton (356).txt 197390\n",
      "./HW1_Dataset/Dubliners by James Joyce (219).txt 389199\n",
      "./HW1_Dataset/The Hound of the Baskervilles by Arthur Conan Doyle (223).txt 339188\n",
      "./HW1_Dataset/The Boy Fortune Hunters in China by L. Frank  Baum (215).txt 324452\n",
      "./HW1_Dataset/Leviathan by Thomas Hobbes (417).txt 1231784\n",
      "./HW1_Dataset/The Awakening, and Selected Short Stories by Kate Chopin (192).txt 378936\n",
      "./HW1_Dataset/The Interesting Narrative of the Life of Olaudah Equiano, Or Gustavus Vassa, The African by Equiano (114).txt 471165\n",
      "./HW1_Dataset/Through the Looking-Glass by Lewis Carroll (134).txt 181667\n",
      "./HW1_Dataset/Il Principe. English by Niccolò Machiavelli (428) (Unicode Encoding Conflict).txt 300788\n",
      "./HW1_Dataset/On Liberty by John Stuart Mill (116).txt 325922\n",
      "./HW1_Dataset/The Law of Storms by John Wilson Ross (110).txt 65264\n",
      "./HW1_Dataset/The Strange Case of Dr. Jekyll and Mr. Hyde by Robert Louis Stevenson (170).txt 159542\n",
      "./HW1_Dataset/Liberalism by L. T.  Hobhouse (119).txt 305345\n",
      "./HW1_Dataset/Semmering 1912 by Peter Altenberg (221).txt 264946\n",
      "./HW1_Dataset/Les Misérables by Victor Hugo (165) (Unicode Encoding Conflict).txt 3254333\n",
      "./HW1_Dataset/The Count of Monte Cristo, Illustrated by Alexandre Dumas (160).txt 2643849\n",
      "./HW1_Dataset/Alice in Wonderland by Lewis Carroll and Alice Gerstenberg (126).txt 104079\n",
      "./HW1_Dataset/Common Sense by Thomas Paine (297).txt 145353\n",
      "./HW1_Dataset/Narrative of the Captivity and Restoration of Mrs. Mary Rowlandson by Mary White Rowlandson (222).txt 123784\n",
      "./HW1_Dataset/The Divine Comedy by Dante, Illustrated by Dante Alighieri (119).txt 2161\n",
      "./HW1_Dataset/The Importance of Being Earnest_ A Trivial Comedy for Serious People by Oscar Wilde (454).txt 138887\n",
      "./HW1_Dataset/Walden, and On The Duty Of Civil Disobedience by Henry David Thoreau (180).txt 656207\n",
      "./HW1_Dataset/The Yellow Wallpaper by Charlotte Perkins Gilman (462).txt 50841\n",
      "./HW1_Dataset/Jane Eyre_ An Autobiography by Charlotte Brontë (290) (Unicode Encoding Conflict).txt 1049267\n",
      "./HW1_Dataset/The Kama Sutra of Vatsyayana by Vatsyayana (172).txt 351664\n",
      "./HW1_Dataset/Sense and Sensibility by Jane Austen (177).txt 693095\n",
      "./HW1_Dataset/Adventures of Huckleberry Finn by Mark Twain (401).txt 593962\n",
      "./HW1_Dataset/Heart of Darkness by Joseph Conrad (213).txt 229835\n",
      "./HW1_Dataset/The Republic by Plato (246).txt 1214387\n",
      "./HW1_Dataset/The Complete Works of William Shakespeare by William Shakespeare (132).txt 5465100\n",
      "./HW1_Dataset/The Picture of Dorian Gray by Oscar Wilde (282).txt 453169\n",
      "./HW1_Dataset/The Works of Edgar Allan Poe — Volume 2 by Edgar Allan Poe (137).txt 569966\n",
      "./HW1_Dataset/Ulysses by James Joyce (282).txt 1534140\n",
      "./HW1_Dataset/The Federalist Papers by Alexander Hamilton and John Jay and James Madison (116).txt 1167141\n",
      "./HW1_Dataset/Leaves of Grass by Walt Whitman (164).txt 757361\n",
      "./HW1_Dataset/Narrative of the Life of Frederick Douglass, an American Slave by Frederick Douglass (243).txt 244263\n",
      "./HW1_Dataset/A Study in Scarlet by Arthur Conan Doyle (163).txt 262340\n",
      "./HW1_Dataset/Beowulf An Anglo-Saxon Epic Poem (403).txt 292953\n",
      "./HW1_Dataset/The Wendigo by Algernon Blackwood (174).txt 127464\n",
      "./HW1_Dataset/The Scarlet Letter by Nathaniel Hawthorne (211).txt 506975\n",
      "./HW1_Dataset/Persuasion by Jane Austen (2234).txt 486251\n",
      "./HW1_Dataset/The Time Machine by H. G.  Wells (137).txt 198281\n",
      "./HW1_Dataset/The Guardsman by Homer Greene (175).txt 412900\n",
      "./HW1_Dataset/Carmilla by Joseph Sheridan Le Fanu (135).txt 176408\n",
      "./HW1_Dataset/Uncle Tom's Cabin by Harriet Beecher Stowe (108).txt 1025501\n",
      "./HW1_Dataset/A Tale of Two Cities by Charles Dickens (425).txt 776702\n",
      "./HW1_Dataset/Moby Dick; Or, The Whale by Herman Melville (413).txt 1238569\n",
      "./HW1_Dataset/Songs of Innocence, and Songs of Experience by William Blake (166).txt 51724\n",
      "./HW1_Dataset/Dracula by Bram Stoker (461).txt 867141\n",
      "./HW1_Dataset/Emma by Jane Austen (166).txt 902390\n",
      "./HW1_Dataset/Wuthering Heights by Emily Brontë (179) (Unicode Encoding Conflict).txt 669150\n",
      "./HW1_Dataset/Autobiography of Benjamin Franklin by Benjamin Franklin (247).txt 458600\n",
      "./HW1_Dataset/The Strange Case of Dr. Jekyll and Mr. Hyde by Robert Louis Stevenson (158).txt 158048\n",
      "./HW1_Dataset/Anne of Green Gables by L. M.  Montgomery (114).txt 580635\n",
      "./HW1_Dataset/The Souls of Black Folk by W. E. B.  Du Bois (172).txt 421336\n",
      "./HW1_Dataset/The Confessions of St. Augustine by Bishop of Hippo Saint Augustine (157).txt 622405\n",
      "./HW1_Dataset/Candide by Voltaire (180).txt 224924\n",
      "./HW1_Dataset/The Legend of Sleepy Hollow by Washington Irving (399).txt 89237\n",
      "./HW1_Dataset/Alice's Adventures in Wonderland by Lewis Carroll (564).txt 163817\n",
      "./HW1_Dataset/Peter Pan by J. M.  Barrie (274).txt 278194\n",
      "./HW1_Dataset/The Wonderful Wizard of Oz by L. Frank  Baum (150).txt 227654\n",
      "./HW1_Dataset/The Innocents Abroad by Mark Twain (108).txt 1126278\n",
      "./HW1_Dataset/The Turn of the Screw by Henry James (185).txt 248089\n",
      "./HW1_Dataset/The Adventures of Tom Sawyer by Mark Twain (371).txt 412712\n",
      "./HW1_Dataset/The Tragedy of Romeo and Juliet by William Shakespeare (131).txt 174128\n",
      "./HW1_Dataset/A Modest Proposal by Jonathan Swift (233).txt 38966\n",
      "./HW1_Dataset/A Christmas Carol in Prose; Being a Ghost Story of Christmas by Charles Dickens (265).txt 177758\n",
      "./HW1_Dataset/Essays of Michel de Montaigne — Complete by Michel de Montaigne (205).txt 3033575\n",
      "./HW1_Dataset/The Adventures of Sherlock Holmes by Arthur Conan Doyle (447).txt 581864\n",
      "./HW1_Dataset/Robert Greene by Robert Greene (126).txt 760655\n",
      "./HW1_Dataset/Essays by Ralph Waldo Emerson by Ralph Waldo Emerson (239).txt 557197\n",
      "./HW1_Dataset/The Boy Fortune Hunters in the South Seas by L. Frank  Baum (150).txt 266166\n",
      "./HW1_Dataset/Pride and Prejudice by Jane Austen (1003).txt 704192\n",
      "./HW1_Dataset/My Secret Life, Volumes I. to III. by Anonymous (157).txt 1378627\n",
      "./HW1_Dataset/The Mysterious Affair at Styles by Agatha Christie (115).txt 340770\n",
      "./HW1_Dataset/Treasure Island by Robert Louis Stevenson (236).txt 383675\n",
      "./HW1_Dataset/Hedda Gabler by Henrik Ibsen (123).txt 193875\n",
      "./HW1_Dataset/Metamorphosis by Franz Kafka (483).txt 139056\n",
      "./HW1_Dataset/Great Expectations by Charles Dickens (293).txt 1013450\n",
      "./HW1_Dataset/The Life and Adventures of Robinson Crusoe by Daniel Defoe (126).txt 642909\n",
      "./HW1_Dataset/The Iliad by Homer (256).txt 1175588\n",
      "./HW1_Dataset/The Tragical History of Doctor Faustus by Christopher Marlowe (144).txt 143736\n",
      "./HW1_Dataset/Grimms' Fairy Tales by Jacob Grimm and Wilhelm Grimm (429).txt 540241\n",
      "./HW1_Dataset/Beyond Good and Evil by Friedrich Wilhelm Nietzsche (120).txt 402273\n",
      "./HW1_Dataset/Siddhartha by Hermann Hesse (216).txt 236855\n",
      "./HW1_Dataset/The Faery Queen and Her Knights by Alfred John Church (177).txt 447320\n"
     ]
    }
   ],
   "source": [
    "########################################################################\n",
    "######################### Write your code here #########################\n",
    "########################################################################\n",
    "\n",
    "import glob\n",
    "import os\n",
    "os.chdir('/data')\n",
    "\n",
    "book_files = glob.glob('./dataset/*.txt')\n",
    "\n",
    "for book in book_files:\n",
    "    file = open(book, 'r', encoding='utf-8')\n",
    "    content = file.read()\n",
    "    print(f\"{book} {len(content)}\")"
   ]
  },
  {
   "cell_type": "markdown",
   "metadata": {},
   "source": [
    "Modify the code so that it prints out the top 15 longest books (in terms of raw string length, which is what you had already computed)."
   ]
  },
  {
   "cell_type": "code",
   "execution_count": 2,
   "metadata": {},
   "outputs": [
    {
     "name": "stdout",
     "output_type": "stream",
     "text": [
      "1. 5465100 The Complete Works of William Shakespeare by William Shakespeare (132).txt\n",
      "2. 4351846 The King James Version of the Bible (132).txt\n",
      "3. 3254333 Les Misérables by Victor Hugo (165) (Unicode Encoding Conflict).txt\n",
      "4. 3227580 War and Peace by graf Leo Tolstoy (251).txt\n",
      "5. 3033575 Essays of Michel de Montaigne — Complete by Michel de Montaigne (205).txt\n",
      "6. 2643849 The Count of Monte Cristo, Illustrated by Alexandre Dumas (160).txt\n",
      "7. 1534140 Ulysses by James Joyce (282).txt\n",
      "8. 1378627 My Secret Life, Volumes I. to III. by Anonymous (157).txt\n",
      "9. 1238569 Moby Dick; Or, The Whale by Herman Melville (413).txt\n",
      "10. 1231784 Leviathan by Thomas Hobbes (417).txt\n",
      "11. 1214387 The Republic by Plato (246).txt\n",
      "12. 1200021 The History of the Peloponnesian War by Thucydides (122).txt\n",
      "13. 1175588 The Iliad by Homer (256).txt\n",
      "14. 1167141 The Federalist Papers by Alexander Hamilton and John Jay and James Madison (116).txt\n",
      "15. 1154508 Prestuplenie i nakazanie. English by Fyodor Dostoyevsky (160).txt\n"
     ]
    }
   ],
   "source": [
    "########################################################################\n",
    "######################### Write your code here #########################\n",
    "########################################################################\n",
    "\n",
    "# Make an empty list\n",
    "length = []\n",
    "\n",
    "# Iterate over the book files to get their names and content lengths\n",
    "for book in book_files:\n",
    "    file = open(book, 'r', encoding='utf-8')\n",
    "    content = file.read()  # Read the content of the file\n",
    "    length.append((os.path.basename(book), len(content)))  # Store the file name and length of content\n",
    "\n",
    "# Sort the books by their length in descending order\n",
    "sorted_books = sorted(length, key=lambda x: x[1], reverse=True)\n",
    "\n",
    "# Print out the top 15 books\n",
    "for rank, (book, length) in enumerate(sorted_books[:15], start=1):\n",
    "    print(f\"{rank}. {length} {book}\")"
   ]
  },
  {
   "cell_type": "markdown",
   "metadata": {},
   "source": [
    "You should find that some of the books are quite long. Processing very long books will be problematic with spaCy, so we will want to chop up long books into pieces. Note that later on in the course, we shall see that chopping up large amounts of data into small pieces or \"batches\" is in fact quite common in machine learning since for massive datasets, we often cannot store them in their entirety on a CPU or GPU for processing all at once.\n",
    "\n",
    "As a toy example, suppose that a book's text is `'cat dog shark spam eggs'` and we want to split it up into batches where each batch has at most 3 words. Then we could split up the book's text into two batches/pieces: `'cat dog shark'` and `'spam eggs'`.\n"
   ]
  },
  {
   "cell_type": "code",
   "execution_count": 3,
   "metadata": {},
   "outputs": [
    {
     "name": "stdout",
     "output_type": "stream",
     "text": [
      "['cat dog shark', 'spam eggs']\n"
     ]
    }
   ],
   "source": [
    "import numpy as np\n",
    "\n",
    "def split_into_batches(book_text, max_num_words_per_batch):\n",
    "    words_split_on_spaces = book_text.split(' ')\n",
    "    num_book_pieces = int(np.ceil(len(words_split_on_spaces) / max_num_words_per_batch))\n",
    "    batches = []\n",
    "    for piece_idx in range(num_book_pieces):\n",
    "        start_idx = piece_idx * max_num_words_per_batch\n",
    "        end_idx = (piece_idx + 1) * max_num_words_per_batch\n",
    "        if end_idx > len(words_split_on_spaces):\n",
    "            end_idx = len(words_split_on_spaces)\n",
    "        book_piece = ' '.join(words_split_on_spaces[start_idx:end_idx])\n",
    "        batches.append(book_piece)\n",
    "    return batches\n",
    "\n",
    "print(split_into_batches('cat dog shark spam eggs', 3))"
   ]
  },
  {
   "cell_type": "markdown",
   "metadata": {},
   "source": [
    "Now write a loop that goes through all 100 books again. However, for each book, split it up into batches so that each batch has at most 10000 words. In this case, how many batches are there total across all 100 books? Please write code that computes this number of batches. Your code should print out the following (with the correct total number of batches):\n",
    "\n",
    "```\n",
    "Total number of batches: <total number of batches across all 100 books>\n",
    "```"
   ]
  },
  {
   "cell_type": "code",
   "execution_count": 4,
   "metadata": {},
   "outputs": [
    {
     "name": "stdout",
     "output_type": "stream",
     "text": [
      "Total number of batches: 1246\n"
     ]
    }
   ],
   "source": [
    "########################################################################\n",
    "######################### Write your code here #########################\n",
    "########################################################################\n",
    "\n",
    "total_batches = 0\n",
    "\n",
    "for book in book_files:\n",
    "    file =  open(book, 'r', encoding='utf-8')\n",
    "    content = file.read()\n",
    "    batches = split_into_batches(content, 10000)\n",
    "    total_batches += len(batches)\n",
    "\n",
    "print(f\"Total number of batches: {total_batches}\")"
   ]
  },
  {
   "cell_type": "markdown",
   "metadata": {},
   "source": [
    "Build a term frequency (raw counts) table that is for all 100 books. Specifically, building on your solution to part (a)-subpart iii, read in a single book at a time and for each book, do the following:\n",
    "\n",
    "  1. Split it up into batches where each batch has at most 10000 words.\n",
    "  2. For each batch:\n",
    "    1. Process the batch by separating and lemmatizing the words\n",
    "    2. Count the number of times each lemma appears and add these to the frequency table. For simplicity, **do not convert lemmas to lowercase**. (Note that we use raw counts as the \"frequency\"--do not do any division.) Also, as we explain below, we will only count lemmas that are alphabetic.\n",
    "\n",
    "Note that just as we had said in part (a): do **not** print out the complete contents of every book since doing so will result in a Jupyter notebook file that is massive.\n",
    "\n",
    "After looping through all 100 books, you should have the term frequency table for the entire corpus (importantly, the frequency table should not just be for a single book; it should be for all 100 books). Sort the table and print the top 50 most frequent words, along with their frequencies and ranks. Don't worry about ties (for example, if multiple things have the same frequency, it's fine if your solution breaks ties arbitrarily in the sorting).\n",
    "\n",
    "Note: When counting the lemmas, only include lemmas that consist of alphabetic letters (a-z and A-Z). You can do this with what's called a *regular expression*. For example, to check whether the words \"will.i.am\" or \"Tesla\" are alphabetic, you would do the following:"
   ]
  },
  {
   "cell_type": "code",
   "execution_count": 5,
   "metadata": {},
   "outputs": [
    {
     "name": "stdout",
     "output_type": "stream",
     "text": [
      "1. the (702465)\n",
      "2. and (435424)\n",
      "3. be (430134)\n",
      "4. of (386347)\n",
      "5. to (324409)\n",
      "6. I (255129)\n",
      "7. a (233423)\n",
      "8. in (204252)\n",
      "9. he (193622)\n",
      "10. that (159010)\n",
      "11. have (158151)\n",
      "12. it (135431)\n",
      "13. his (108536)\n",
      "14. you (102595)\n",
      "15. with (101227)\n",
      "16. they (97246)\n",
      "17. not (95519)\n",
      "18. for (95320)\n",
      "19. as (90702)\n",
      "20. she (78524)\n",
      "21. but (75599)\n",
      "22. my (73983)\n",
      "23. do (68754)\n",
      "24. at (64947)\n",
      "25. on (62833)\n",
      "26. by (61274)\n",
      "27. this (61240)\n",
      "28. we (60300)\n",
      "29. which (58868)\n",
      "30. all (58636)\n",
      "31. say (58348)\n",
      "32. from (50095)\n",
      "33. so (47999)\n",
      "34. or (47810)\n",
      "35. her (42838)\n",
      "36. one (41123)\n",
      "37. man (39585)\n",
      "38. their (38418)\n",
      "39. what (37851)\n",
      "40. no (37808)\n",
      "41. there (37209)\n",
      "42. will (34946)\n",
      "43. if (34898)\n",
      "44. go (33897)\n",
      "45. when (33587)\n",
      "46. an (32517)\n",
      "47. come (32358)\n",
      "48. see (32024)\n",
      "49. who (30934)\n",
      "50. would (30881)\n"
     ]
    }
   ],
   "source": [
    "########################################################################\n",
    "######################### Write your code here #########################\n",
    "########################################################################\n",
    "\n",
    "import spacy\n",
    "import re\n",
    "import glob\n",
    "from collections import Counter\n",
    "\n",
    "# Load spaCy model with ner and parser disabled\n",
    "nlp = spacy.load('en_core_web_sm', disable=['ner', 'parser'])\n",
    "\n",
    "# Initialize a Counter object to hold the term frequencies\n",
    "term_freq_table = Counter()\n",
    "\n",
    "# Iterate over each book\n",
    "for book in book_files:\n",
    "    file = open(book, 'r', encoding='utf-8')\n",
    "    content = file.read()\n",
    "    # Split the book into batches and process each batch\n",
    "    for batch in split_into_batches(content, 10000):\n",
    "        doc = nlp(batch)\n",
    "        for token in doc:\n",
    "            if token.is_alpha:  # Check if the token is alphabetic\n",
    "                lemma = token.lemma_\n",
    "                term_freq_table[lemma] += 1  # Update term frequency\n",
    "\n",
    "# Sort the terms by frequency and print the top 50\n",
    "for rank, (lemma, frequency) in enumerate(term_freq_table.most_common(50), start=1):\n",
    "    print(f\"{rank}. {lemma} ({frequency})\")\n"
   ]
  },
  {
   "cell_type": "markdown",
   "metadata": {},
   "source": [
    "Visualize the frequency table by plotting a **raw scatter plot** (put frequency as the y-axis and rank as the x-axis), and a **log-log plot** (use logarithmic scales on both the x- and y- axes). Note that this should be for all words and not only the top 50. As before, for the ranks, do not worry about ties, i.e., break ties arbitrarily."
   ]
  },
  {
   "cell_type": "code",
   "execution_count": 6,
   "metadata": {},
   "outputs": [
    {
     "data": {
      "image/png": "[encoded data removed]",
      "text/plain": [
       "<Figure size 1000x500 with 1 Axes>"
      ]
     },
     "metadata": {},
     "output_type": "display_data"
    }
   ],
   "source": [
    "# Raw scatter plot\n",
    "########################################################################\n",
    "######################### Write your code here #########################\n",
    "########################################################################\n",
    "import matplotlib.pyplot as plt\n",
    "import numpy as np\n",
    "\n",
    "# Get the list of frequencies sorted from most to least frequent\n",
    "frequencies = [freq for lemma, freq in term_freq_table.most_common()]\n",
    "ranks = range(1, len(frequencies) + 1)\n",
    "\n",
    "# Create a raw scatter plot\n",
    "plt.figure(figsize=(10, 5))\n",
    "plt.scatter(ranks, frequencies)\n",
    "plt.title('Frequency vs. Rank')\n",
    "plt.xlabel('Rank')\n",
    "plt.ylabel('Frequency')\n",
    "plt.show()"
   ]
  },
  {
   "cell_type": "code",
   "execution_count": 7,
   "metadata": {},
   "outputs": [
    {
     "data": {
      "image/png": "[encoded data removed]",
      "text/plain": [
       "<Figure size 1000x500 with 1 Axes>"
      ]
     },
     "metadata": {},
     "output_type": "display_data"
    }
   ],
   "source": [
    "# Log-log plot\n",
    "########################################################################\n",
    "######################### Write your code here #########################\n",
    "########################################################################\n",
    "\n",
    "# Create a log-log plot\n",
    "plt.figure(figsize=(10, 5))\n",
    "plt.scatter(np.log(ranks), np.log(frequencies))\n",
    "plt.title('Log-Log of Frequency vs. Rank')\n",
    "plt.xlabel('Log of Rank')\n",
    "plt.ylabel('Log of Frequency')\n",
    "plt.show()"
   ]
  },
  {
   "cell_type": "markdown",
   "metadata": {},
   "source": [
    "Let's now try to make sense of the very last plot in part. Zipf's law states that term frequency is governed by a power law, i.e. the relationship between term frequency and rank can be approximated by $f(r) = cr^{-1}$, where $f(r)$ is the frequency of the term at rank $r$, $r$ is the rank of a term, and $c$ is a constant that is approximately 0.1*(corpus size) for English.\n",
    "\n",
    "Please answer the following questions:\n",
    "What do you observe in the log-log plot above? Is this consist with the power law?"
   ]
  },
  {
   "cell_type": "markdown",
   "metadata": {},
   "source": [
    "The log-log value decreases with increase in rank which resonates with the power law. This can also be seen by the decreasing slope suggesting the inverse relation. \n",
    "This also suggests consistency with the zipf function which has an exponential decay and hence we can say that this is consistent with the power law."
   ]
  },
  {
   "cell_type": "markdown",
   "metadata": {},
   "source": [
    "Think of the corpus as a (large) unigram bag of words. Following the analogy from lecture, imagine drawing a single word from this big bag (note that we are assuming that we've lemmatized the words and also filtered out non-alphabetic words; thus what remains in the bag are actually alphabetic lemmas). What is the probability of drawing one of the 4 most frequent alphabetic lemmas? What is the probability of drawing one of the 50 most frequent alphabetic lemmas? Answer these two questions using code rather than just entering in the final answers as numbers."
   ]
  },
  {
   "cell_type": "code",
   "execution_count": 8,
   "metadata": {},
   "outputs": [
    {
     "name": "stdout",
     "output_type": "stream",
     "text": [
      "Probability of drawing one of the 4 most frequent alphabetic lemmas: \n",
      "0.1617945563375985\n",
      "Probability of drawing one of the 50 most frequent alphabetic lemmas: \n",
      "0.480906268732929\n"
     ]
    }
   ],
   "source": [
    "# Total number of words in the corpus\n",
    "total_words = sum(term_freq_table.values())\n",
    "\n",
    "# Sum the frequencies of the top 4 lemmas\n",
    "top_4_freq = sum(freq for lemma, freq in term_freq_table.most_common(4))\n",
    "\n",
    "# Sum the frequencies of the top 50 lemmas\n",
    "top_50_freq = sum(freq for lemma, freq in term_freq_table.most_common(50))\n",
    "\n",
    "\n",
    "print('Probability of drawing one of the 4 most frequent alphabetic lemmas: ')\n",
    "########################################################################\n",
    "######################### Write your code here #########################\n",
    "########################################################################\n",
    "\n",
    "prob_top_4 = top_4_freq / total_words\n",
    "print(prob_top_4)\n",
    "\n",
    "print('Probability of drawing one of the 50 most frequent alphabetic lemmas: ')\n",
    "########################################################################\n",
    "######################### Write your code here #########################\n",
    "########################################################################\n",
    "\n",
    "prob_top_50 = top_50_freq / total_words\n",
    "print(prob_top_50)"
   ]
  },
  {
   "cell_type": "markdown",
   "metadata": {},
   "source": [
    "What proportion of the alphabetic lemmas occur only once? What proportion of the alphabetic lemmas occur fewer than 10 times?"
   ]
  },
  {
   "cell_type": "code",
   "execution_count": 9,
   "metadata": {
    "scrolled": true
   },
   "outputs": [
    {
     "name": "stdout",
     "output_type": "stream",
     "text": [
      "Occur only once: \n",
      "0.455335913500755\n",
      "Occur fewer than 10 times: \n",
      "0.7878911470174769\n"
     ]
    }
   ],
   "source": [
    "# Number of lemmas that occur only once\n",
    "num_lemmas_once = sum(1 for lemma, freq in term_freq_table.items() if freq == 1)\n",
    "\n",
    "# Number of lemmas that occur fewer than 10 times\n",
    "num_lemmas_fewer_than_10 = sum(1 for lemma, freq in term_freq_table.items() if freq < 10)\n",
    "\n",
    "# Total number of unique lemmas\n",
    "total_unique_lemmas = len(term_freq_table)\n",
    "\n",
    "print(\"Occur only once: \")\n",
    "########################################################################\n",
    "######################### Write your code here #########################\n",
    "########################################################################\n",
    "\n",
    "prop_lemmas_once = num_lemmas_once / total_unique_lemmas\n",
    "print(prop_lemmas_once)\n",
    "\n",
    "print(\"Occur fewer than 10 times: \")\n",
    "########################################################################\n",
    "######################### Write your code here #########################\n",
    "########################################################################\n",
    "\n",
    "prop_lemmas_fewer_than_10 = num_lemmas_fewer_than_10 / total_unique_lemmas\n",
    "print(prop_lemmas_fewer_than_10)"
   ]
  },
  {
   "cell_type": "markdown",
   "metadata": {},
   "source": [
    "### Entity Recognition and Pointwise Mutual Information (PMI)\n",
    "By using the entity recognition system in `spaCy`, let's identify named entities from newspaper articles. You'll be using Reuters corpus which contains more than ten thousand newspaper articles. To run the code below, you need to download the Reuters dataset. To do so, in a terminal/command line (recall that you can open a terminal from Jupyter's webpage that shows all the files, which by default is [http://localhost:8888/tree](http://localhost:8888/tree)), start up Python and enter:"
   ]
  },
  {
   "cell_type": "markdown",
   "metadata": {},
   "source": [
    "Draw a bar chart in which one of the axes shows entity labels and the other shows the frequency of the corresponding label. Use the variables `reuters_nlp` and `label_counter` provided in the code below."
   ]
  },
  {
   "cell_type": "code",
   "execution_count": 10,
   "metadata": {
    "scrolled": false
   },
   "outputs": [
    {
     "name": "stderr",
     "output_type": "stream",
     "text": [
      "/Users/siddhesh/opt/anaconda3/lib/python3.9/site-packages/spacy/pipeline/lemmatizer.py:211: UserWarning: [W108] The rule-based lemmatizer did not find POS annotation for one or more tokens. Check that your pipeline includes components that assign token.pos, typically 'tagger'+'attribute_ruler' or 'morphologizer'.\n",
      "  warnings.warn(Warnings.W108)\n"
     ]
    },
    {
     "data": {
      "image/png": "[encoded data removed]",
      "text/plain": [
       "<Figure size 1200x700 with 1 Axes>"
      ]
     },
     "metadata": {},
     "output_type": "display_data"
    }
   ],
   "source": [
    "import matplotlib.pyplot as plt\n",
    "from collections import Counter\n",
    "from nltk.corpus import reuters\n",
    "import re\n",
    "import spacy\n",
    "nlp = spacy.load('en_core_web_sm', disable=['parser', 'tagger'])\n",
    "reuters_fileids = reuters.fileids()  # hint: when first debugging, consider looking at just the first few\n",
    "reuters_nlp = [nlp(re.sub('\\s+',' ', reuters.raw(i)).strip()) for i in reuters_fileids]\n",
    "label_counter = Counter()\n",
    "\n",
    "########################################################################\n",
    "######################### Write your code here #########################\n",
    "########################################################################\n",
    "\n",
    "# Iterate over the processed documents and count the entity labels\n",
    "for doc in reuters_nlp:\n",
    "    for ent in doc.ents:\n",
    "        label_counter[ent.label_] += 1\n",
    "\n",
    "# Prepare the data for plotting\n",
    "labels, frequencies = zip(*label_counter.items())\n",
    "indices = range(len(labels))\n",
    "\n",
    "# Create the bar chart\n",
    "plt.figure(figsize=(12, 7))\n",
    "plt.bar(indices, frequencies, align='center')\n",
    "plt.xticks(indices, labels, rotation='vertical')\n",
    "plt.xlabel('Entity Label')\n",
    "plt.ylabel('Frequency')\n",
    "plt.title('Frequency of Named Entity Labels in Reuters Corpus')\n",
    "plt.show()"
   ]
  },
  {
   "cell_type": "markdown",
   "metadata": {},
   "source": [
    "Now list the top 10 most frequently occurring entities (entity text and the number of occurence) with label `ORG` (organization). Separately list the top 10 most frequently occurring entities with label `GPE` (geopolitical entity such as countries, cities, states) respectively. **In both cases, please convert the entity names to lowercase first before computing the top 10.**\n",
    "\n",
    "Here, when counting the (raw count) frequency, we need to count how many articles have an entity with the desired property. For every article, we add 1 if the article has the entity and 0 otherwise."
   ]
  },
  {
   "cell_type": "code",
   "execution_count": 11,
   "metadata": {},
   "outputs": [
    {
     "name": "stdout",
     "output_type": "stream",
     "text": [
      "Top 10 most frequently occuring entities with label ORG\n",
      "[('cts', 1115), ('reuters', 444), ('the securities and exchange commission', 248), ('ec', 231), ('fed', 230), ('treasury', 228), ('cts net', 179), ('the u.s. agriculture department', 170), ('usda', 154), ('the bank of england', 143)]\n",
      "Top 10 most frequently occuring entities with label GPE\n",
      "[('u.s.', 1631), ('japan', 579), ('the united states', 383), ('u.k.', 297), ('canada', 295), ('new york', 251), ('west germany', 236), ('washington', 230), ('london', 216), ('brazil', 201)]\n"
     ]
    }
   ],
   "source": [
    "########################################################################\n",
    "######################### Write your code here #########################\n",
    "########################################################################\n",
    "\n",
    "from collections import Counter\n",
    "\n",
    "# Initialize Counter objects for ORG and GPE entities\n",
    "org_counter = Counter()\n",
    "gpe_counter = Counter()\n",
    "\n",
    "# Iterate over the processed documents\n",
    "for doc in reuters_nlp:\n",
    "    # Initialize sets to track unique entities for the current document\n",
    "    org_entities = set()\n",
    "    gpe_entities = set()\n",
    "\n",
    "    # Extract entities and update the corresponding set\n",
    "    for ent in doc.ents:\n",
    "        if ent.label_ == 'ORG':\n",
    "            org_entities.add(ent.text.lower())\n",
    "        elif ent.label_ == 'GPE':\n",
    "            gpe_entities.add(ent.text.lower())\n",
    "\n",
    "    # Update the counters with the unique entities from this document\n",
    "    org_counter.update(org_entities)\n",
    "    gpe_counter.update(gpe_entities)\n",
    "\n",
    "# Get the top 10 most common ORG and GPE entities\n",
    "top_10_org = org_counter.most_common(10)\n",
    "top_10_gpe = gpe_counter.most_common(10)\n",
    "\n",
    "print('Top 10 most frequently occuring entities with label ORG')\n",
    "print(top_10_org)\n",
    "\n",
    "print('Top 10 most frequently occuring entities with label GPE')\n",
    "print(top_10_gpe)\n"
   ]
  },
  {
   "cell_type": "markdown",
   "metadata": {},
   "source": [
    "Give the top 50 `GPE` (countries, cities, states) entities that have the highest Pointwise Mutual Information (PMI) values with regard to the `ORG` (organization) entity **'opec'** (your list of this top 50 should be ranked in decreasing PMI value). Did you find any unexpected results? If so, why do you think it happened? If you found some of the results to be unsurprisingly, how come? **Just like in the previous part, please convert entity names to lowercase in your analysis.**\n",
    "\n",
    "Hint 1: As in lecture, when computing PMI, we will compute probabilities by counting the number of documents where entities occur or co-occur.  For example, $P('opec') = \\frac{number \\ \\ of \\ \\ documents \\ \\ containing \\ \\ 'opec'}{number \\ \\ of \\ \\ documents}$.  \n",
    "\n",
    "Hint 2: To compute this ranking, you do not have to compute the full PMI equation."
   ]
  },
  {
   "cell_type": "code",
   "execution_count": 12,
   "metadata": {},
   "outputs": [
    {
     "name": "stdout",
     "output_type": "stream",
     "text": [
      "Top 50 GPE entities\n",
      "[('brent', 4.428473013040396), ('ula fields', 4.428473013040396), ('emirates', 4.428473013040396), ('the lake charles', 4.428473013040396), ('bethesda', 4.428473013040396), ('franco', 4.428473013040396), ('gabon', 4.428473013040396), ('opec', 4.428473013040396), ('saudi arabia reiterates commitment to', 4.428473013040396), ('yanbu', 4.428473013040396), ('el salado', 4.428473013040396), ('aguarico', 4.428473013040396), ('ras tanurah', 4.428473013040396), (\"ju'aymah\", 4.428473013040396), ('jubail', 4.428473013040396), ('tripoli', 4.428473013040396), ('doha', 4.428473013040396), ('guayaquil', 4.428473013040396), ('tihamah', 4.428473013040396), ('redoglia', 4.428473013040396), ('carrington', 4.428473013040396), ('materialy', 4.428473013040396), ('vienna', 4.194007759403372), ('riyadh', 4.106544918153033), (\"saudi arabia's\", 3.8879046316776926), ('balao', 3.843510512319239), ('quito', 3.843510512319239), ('qatar', 3.6349238905078214), ('dubai', 3.621118090982791), ('caracas', 3.580476106485445), ('nordic', 3.4284730130403958), ('kahan', 3.4284730130403958), ('statfjord', 3.4284730130403958), ('oseberg', 3.4284730130403958), ('dunham', 3.4284730130403958), ('la', 3.4284730130403958), ('nigeria', 3.428473013040395), ('libya', 3.312995795620459), ('ecuador', 3.2394391886503784), ('saudi arabia', 3.1833605152038644), ('kuwait', 3.0958976739535244), ('the united arab emirates', 3.0299236365501203), ('venezuela', 2.9613470026130977), ('lago agrio', 2.843510512319239), ('petromin', 2.843510512319239), ('alexandria', 2.843510512319239), ('jakarta', 2.843510512319239), ('lagos', 2.843510512319239), ('jamaica', 2.621118090982791), ('iceland', 2.4284730130403958)]\n"
     ]
    }
   ],
   "source": [
    "########################################################################\n",
    "######################### Write your code here #########################\n",
    "########################################################################\n",
    "\n",
    "from collections import Counter\n",
    "from math import log\n",
    "\n",
    "# Initialize Counter objects for GPE entities and co-occurrences with 'opec'\n",
    "gpe_counter = Counter()\n",
    "opec_counter = Counter()\n",
    "gpe_opec_cooccurrence = Counter()\n",
    "\n",
    "# Count the number of documents containing 'opec'\n",
    "num_docs_with_opec = 0\n",
    "\n",
    "# Iterate over the processed documents\n",
    "for doc in reuters_nlp:\n",
    "    # Track if 'opec' is in the current document\n",
    "    has_opec = False\n",
    "\n",
    "    # Initialize a set to track unique GPE entities for the current document\n",
    "    gpe_entities = set()\n",
    "\n",
    "    # Extract entities and update the corresponding set\n",
    "    for ent in doc.ents:\n",
    "        if ent.label_ == 'GPE':\n",
    "            gpe_entities.add(ent.text.lower())\n",
    "        if ent.text.lower() == 'opec':\n",
    "            has_opec = True\n",
    "            num_docs_with_opec += 1\n",
    "\n",
    "    # Update the counters with the unique entities from this document\n",
    "    gpe_counter.update(gpe_entities)\n",
    "\n",
    "    if has_opec:\n",
    "        opec_counter.update(gpe_entities)\n",
    "\n",
    "# Total number of documents\n",
    "num_docs = len(reuters_nlp)\n",
    "\n",
    "\n",
    "# Source: GPT4, referred GPT for writing below part of code.\n",
    "# Calculate PMI for each GPE with 'opec'\n",
    "gpe_pmi = {}\n",
    "for gpe in gpe_counter:\n",
    "    p_gpe = gpe_counter[gpe] / num_docs\n",
    "    p_opec = num_docs_with_opec / num_docs\n",
    "    p_gpe_and_opec = opec_counter[gpe] / num_docs\n",
    "    if p_gpe_and_opec > 0:  # Avoid log(0) and division by zero\n",
    "        pmi = log(p_gpe_and_opec / (p_gpe * p_opec), 2)\n",
    "        gpe_pmi[gpe] = pmi\n",
    "\n",
    "# Sort the GPEs by PMI in decreasing order and get the top 50\n",
    "top_50_gpe_pmi = sorted(gpe_pmi.items(), key=lambda x: x[1], reverse=True)[:50]\n",
    "\n",
    "print('Top 50 GPE entities')\n",
    "print(top_50_gpe_pmi)"
   ]
  },
  {
   "cell_type": "markdown",
   "metadata": {},
   "source": [
    "The above PMI results draw a relationship between the different countries represented as geopolitical entities and OPEC. OPEC consists of serveral countries which control the supply of crude oil into the world. From the PMI data, we observe that the countries which are a part of OPEC have a high PMI values. The same can be seen for countries like Emirates and United Arab Emirates having high PMI values. Crude oil is also referred as brent which resonates with its high PMI value.\n",
    "The output is not very accurate as there are some variables in the output which are not related to OPEC but still have high PMI values. This might be because those are randomly present in the article and have high occurence."
   ]
  }
 ],
 "metadata": {
  "anaconda-cloud": {},
  "kernelspec": {
   "display_name": "Python 3 (ipykernel)",
   "language": "python",
   "name": "python3"
  },
  "language_info": {
   "codemirror_mode": {
    "name": "ipython",
    "version": 3
   },
   "file_extension": ".py",
   "mimetype": "text/x-python",
   "name": "python",
   "nbconvert_exporter": "python",
   "pygments_lexer": "ipython3",
   "version": "3.9.13"
  }
 },
 "nbformat": 4,
 "nbformat_minor": 2
}
